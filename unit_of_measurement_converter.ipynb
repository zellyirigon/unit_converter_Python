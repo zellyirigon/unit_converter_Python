{
 "cells": [
  {
   "cell_type": "markdown",
   "id": "8262712d-a042-47b2-b70e-21efcf3a9223",
   "metadata": {},
   "source": [
    "# Unit of Measurement Converter\n",
    "\n"
   ]
  },
  {
   "cell_type": "code",
   "execution_count": 2,
   "id": "05524e49-b62f-424b-995f-c028fb56f8d0",
   "metadata": {},
   "outputs": [
    {
     "name": "stdin",
     "output_type": "stream",
     "text": [
      "Enter Stating Unit of Measurement(inches, feet, yards):  inches\n",
      "Enter Unit of Measurement to Convert to(inches, feet, yards):  feet\n",
      "Enter Starting Measurement in Inches:  25\n",
      "Enter Starting Measurement in Feet:  3\n",
      "Enter Starting Measurement in Yards:  2\n"
     ]
    }
   ],
   "source": [
    "#Inputs\n",
    "convert_from = input(\"Enter Stating Unit of Measurement(inches, feet, yards): \")\n",
    "\n",
    "convert_to = input(\"Enter Unit of Measurement to Convert to(inches, feet, yards): \")\n",
    "\n",
    "number_of_inches = input(\"Enter Starting Measurement in Inches: \")\n",
    "\n",
    "number_of_feet = input(\"Enter Starting Measurement in Feet: \")\n",
    "\n",
    "number_of_yards = input(\"Enter Starting Measurement in Yards: \")\n",
    "\n"
   ]
  },
  {
   "cell_type": "code",
   "execution_count": 24,
   "id": "13aad674-cc96-48d5-8171-354dbaaf4b3f",
   "metadata": {},
   "outputs": [
    {
     "name": "stdin",
     "output_type": "stream",
     "text": [
      "Enter Stating Unit of Measurement(inches, feet, yards):  ft\n",
      "Enter Unit of Measurement to Convert to(inches, feet, yards):  YDS\n",
      "Enter Starting Measurement in Feet:  536\n"
     ]
    },
    {
     "name": "stdout",
     "output_type": "stream",
     "text": [
      "Result: 536 Feet = 179 Yards\n"
     ]
    }
   ],
   "source": [
    "#Logic\n",
    "convert_from = input(\"Enter Stating Unit of Measurement(inches, feet, yards): \")\n",
    "\n",
    "convert_to = input(\"Enter Unit of Measurement to Convert to(inches, feet, yards): \")\n",
    "\n",
    "#From INCHES\n",
    "if convert_from.lower() in ['inches','inch', 'in']:\n",
    "    number_of_inches = int(input(\"Enter Starting Measurement in Inches: \"))\n",
    "    if convert_to.lower() in ['feet','foot','ft']:\n",
    "        print(\"Result: {} Inches = {} Feet\".format(number_of_inches,round(number_of_inches/12,2)))\n",
    "    elif convert_to.lower() in ['yards','Yard','yds','yd']:\n",
    "        print(\"Result: {} Inches = {} Yards\".format(number_of_inches,round(number_of_inches/36,2)))\n",
    "    else:\n",
    "        print('Please Enter either Inches, Feet, or Yards.')\n",
    "        \n",
    "# From FEET      \n",
    "elif convert_from.lower() in ['feet','foot','ft']:\n",
    "    number_of_feet = int(input(\"Enter Starting Measurement in Feet: \"))\n",
    "    if convert_to.lower() in ['inches','inch', 'in']:\n",
    "        print(\"Result: {} Feet = {} Inches\".format(number_of_feet,round(number_of_feet*12)))\n",
    "    elif convert_to.lower() in ['yards','Yard','yds','yd']:\n",
    "        print(\"Result: {} Feet = {} Yards\".format(number_of_feet,round(number_of_feet/3,2)))\n",
    "    else:\n",
    "        print('Please Enter either Inches, Feet, or Yards.')\n",
    "        \n",
    "#From YARDS\n",
    "elif convert_from.lower() in ['yards','Yard','yds','yd']:\n",
    "    number_of_yards = int(input(\"Enter Starting Measurement in Yards: \"))\n",
    "    if convert_to.lower() in ['inches','inch', 'in']:\n",
    "        print(\"Result: {} Yards = {} Inches\".format(number_of_yards,round(number_of_yards*36)))\n",
    "    elif convert_to.lower() in ['feet','foot','ft']:\n",
    "        print(\"Result: {} Yards = {} Feet\".format(number_of_yards,round(number_of_yards*3)))\n",
    "    else:\n",
    "        print('Please Enter either Inches, Feet, or Yards.')\n",
    "\n",
    "else:\n",
    "    print('Please Enter either Inches, Feet, or Yards.')\n",
    "        "
   ]
  }
 ],
 "metadata": {
  "kernelspec": {
   "display_name": "Python 3 (ipykernel)",
   "language": "python",
   "name": "python3"
  },
  "language_info": {
   "codemirror_mode": {
    "name": "ipython",
    "version": 3
   },
   "file_extension": ".py",
   "mimetype": "text/x-python",
   "name": "python",
   "nbconvert_exporter": "python",
   "pygments_lexer": "ipython3",
   "version": "3.11.7"
  }
 },
 "nbformat": 4,
 "nbformat_minor": 5
}
